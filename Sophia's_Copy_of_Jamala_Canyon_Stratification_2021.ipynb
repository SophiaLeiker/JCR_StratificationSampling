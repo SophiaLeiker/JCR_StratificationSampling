{
  "nbformat": 4,
  "nbformat_minor": 0,
  "metadata": {
    "colab": {
      "name": "Sophia's Copy of Jamala_Canyon_Stratification_2021.ipynb",
      "provenance": [],
      "collapsed_sections": [],
      "include_colab_link": true
    },
    "kernelspec": {
      "name": "python3",
      "display_name": "Python 3"
    },
    "language_info": {
      "name": "python"
    }
  },
  "cells": [
    {
      "cell_type": "markdown",
      "metadata": {
        "id": "view-in-github",
        "colab_type": "text"
      },
      "source": [
        "<a href=\"https://colab.research.google.com/github/SophiaLeiker/JCR_StratificationSampling/blob/main/Sophia's_Copy_of_Jamala_Canyon_Stratification_2021.ipynb\" target=\"_parent\"><img src=\"https://colab.research.google.com/assets/colab-badge.svg\" alt=\"Open In Colab\"/></a>"
      ]
    },
    {
      "cell_type": "markdown",
      "metadata": {
        "id": "wHxvvFCcipP0"
      },
      "source": [
        "# Stratification & Sampling Design for Jalama Canyon Ranch\n",
        "\n",
        "*Monitor: Sam Bennetts* \n",
        "\n",
        "*Last Edited: July 2, 2021*\n",
        "\n",
        "*Last Used: July 2, 2021*\n",
        "\n",
        "---\n",
        "\n",
        "\n",
        "This notebook outlines the methods used to determine soil sample locations for the *White Buffalo Land trust* rotational grazing project at the Jamala Canyon ranch in Central California. To ensure the sampling design captured soil carbon variability, a *k-means* clustering algorithm was used to stratify the project area into subregions, or strata, which shared similar soil characteristics. Sample locations were then selected using a conditioned latin hypercube (cLHS) algorithm to randomly select sampling locations within each of the strata."
      ]
    },
    {
      "cell_type": "markdown",
      "metadata": {
        "id": "2Y7JPmZpjs4R"
      },
      "source": [
        "## Notebook Setup"
      ]
    },
    {
      "cell_type": "code",
      "metadata": {
        "id": "wDxIKlNyiHpN"
      },
      "source": [
        "%%capture\n",
        "!pip uninstall python_dateutil numpy -y\n",
        "!pip install python-dateutil==2.7.5\n",
        "!pip install numpy==1.20.1\n",
        "!pip install git+https://gitlab.com/S4mmyB/stratipy.git@master\n",
        "!pip install git+https://github.com/creare-com/pydem.git@develop # import develop branch is python3\n",
        "!pip install clhs folium geopandas\n",
        "!pip install aiohttp\n",
        "!pip install xmltodict"
      ],
      "execution_count": null,
      "outputs": []
    },
    {
      "cell_type": "code",
      "metadata": {
        "id": "IR78nQBKjjzh",
        "colab": {
          "base_uri": "https://localhost:8080/"
        },
        "outputId": "fd5bc77d-03e9-4844-942a-f8fc2311c9ae"
      },
      "source": [
        "import os\n",
        "from google.colab import drive\n",
        "\n",
        "# mount to google drive\n",
        "drive.mount('/content/drive')\n",
        "\n",
        "# set working directories\n",
        "working_dir = r'/content/drive/Shared drives/Regen - Science/Grasslands/Grasslands Projects/White Buffalo Land Trust/Jamala Canyon'\n",
        "data_dir = os.path.join(working_dir, 'data')"
      ],
      "execution_count": null,
      "outputs": [
        {
          "output_type": "stream",
          "name": "stdout",
          "text": [
            "Drive already mounted at /content/drive; to attempt to forcibly remount, call drive.mount(\"/content/drive\", force_remount=True).\n"
          ]
        }
      ]
    },
    {
      "cell_type": "markdown",
      "metadata": {
        "id": "TsObZ6sdvtuG"
      },
      "source": [
        "## Property Overview\n",
        "\n",
        "The Pilango Project is located in Wallace County, Kansas in the temperate indigenous grasslands of the Great Plains of the U.S. The project boundaries provided by the land manager are shown below. "
      ]
    },
    {
      "cell_type": "code",
      "metadata": {
        "id": "ydMMYt_TtUe8",
        "colab": {
          "base_uri": "https://localhost:8080/",
          "height": 381
        },
        "outputId": "85a9f74f-0602-4cb8-cf69-692c9a140b9e"
      },
      "source": [
        "import folium\n",
        "import geopandas as gpd\n",
        "import shapely\n",
        "from stratipy import utils\n",
        "\n",
        "# load in project boundary\n",
        "field_boundary_geojson = os.path.join(data_dir, 'jamala_grassland_area.geojson')\n",
        "field_boundary = gpd.read_file(field_boundary_geojson)\n",
        "\n",
        "# pull in field centroid to center folium plot\n",
        "field_centroid = field_boundary.geometry[0].centroid\n",
        "field_center = [field_centroid.y, field_centroid.x]\n",
        "\n",
        "# define function to generate a folium map object\n",
        "def get_basemap(map_center=field_center, zoom_start=15):\n",
        "    return folium.Map(location=map_center, \n",
        "               zoom_start=zoom_start, \n",
        "               tiles='https://api.mapbox.com/v4/mapbox.satellite/{z}/{x}/{y}.png?access_token=pk.eyJ1Ijoib3Vyc2NpIiwiYSI6ImNqb2ljdHMxYjA1bDAzcW03Zjd0cHBsbXMifQ.rL9QPLvi0kLP3DzLt1PQBA',\n",
        "               attr='map copyright Mapbox',\n",
        "    )\n",
        "\n",
        "basemap = get_basemap()\n",
        "boundary_layer = folium.GeoJson(data=field_boundary, \n",
        "                                style_function=lambda x: {'fillColor': '#00000000'},\n",
        "                                name='Project Boundary').add_to(basemap)\n",
        "\n",
        "basemap"
      ],
      "execution_count": null,
      "outputs": [
        {
          "output_type": "error",
          "ename": "ContextualVersionConflict",
          "evalue": "ignored",
          "traceback": [
            "\u001b[0;31m---------------------------------------------------------------------------\u001b[0m",
            "\u001b[0;31mContextualVersionConflict\u001b[0m                 Traceback (most recent call last)",
            "\u001b[0;32m<ipython-input-6-5de867b487da>\u001b[0m in \u001b[0;36m<module>\u001b[0;34m()\u001b[0m\n\u001b[1;32m      2\u001b[0m \u001b[0;32mimport\u001b[0m \u001b[0mgeopandas\u001b[0m \u001b[0;32mas\u001b[0m \u001b[0mgpd\u001b[0m\u001b[0;34m\u001b[0m\u001b[0;34m\u001b[0m\u001b[0m\n\u001b[1;32m      3\u001b[0m \u001b[0;32mimport\u001b[0m \u001b[0mshapely\u001b[0m\u001b[0;34m\u001b[0m\u001b[0;34m\u001b[0m\u001b[0m\n\u001b[0;32m----> 4\u001b[0;31m \u001b[0;32mfrom\u001b[0m \u001b[0mstratipy\u001b[0m \u001b[0;32mimport\u001b[0m \u001b[0mutils\u001b[0m\u001b[0;34m\u001b[0m\u001b[0;34m\u001b[0m\u001b[0m\n\u001b[0m\u001b[1;32m      5\u001b[0m \u001b[0;34m\u001b[0m\u001b[0m\n\u001b[1;32m      6\u001b[0m \u001b[0;31m# load in project boundary\u001b[0m\u001b[0;34m\u001b[0m\u001b[0;34m\u001b[0m\u001b[0;34m\u001b[0m\u001b[0m\n",
            "\u001b[0;32m/usr/local/lib/python3.7/dist-packages/stratipy/__init__.py\u001b[0m in \u001b[0;36m<module>\u001b[0;34m()\u001b[0m\n\u001b[1;32m      1\u001b[0m \u001b[0;32mimport\u001b[0m \u001b[0mstratipy\u001b[0m\u001b[0;34m.\u001b[0m\u001b[0mutils\u001b[0m\u001b[0;34m\u001b[0m\u001b[0;34m\u001b[0m\u001b[0m\n\u001b[0;32m----> 2\u001b[0;31m \u001b[0;32mimport\u001b[0m \u001b[0mstratipy\u001b[0m\u001b[0;34m.\u001b[0m\u001b[0msentinel2\u001b[0m\u001b[0;34m\u001b[0m\u001b[0;34m\u001b[0m\u001b[0m\n\u001b[0m\u001b[1;32m      3\u001b[0m \u001b[0;32mimport\u001b[0m \u001b[0mstratipy\u001b[0m\u001b[0;34m.\u001b[0m\u001b[0msoils\u001b[0m\u001b[0;34m\u001b[0m\u001b[0;34m\u001b[0m\u001b[0m\n\u001b[1;32m      4\u001b[0m \u001b[0;32mimport\u001b[0m \u001b[0mstratipy\u001b[0m\u001b[0;34m.\u001b[0m\u001b[0melevation\u001b[0m\u001b[0;34m\u001b[0m\u001b[0;34m\u001b[0m\u001b[0m\n\u001b[1;32m      5\u001b[0m \u001b[0;32mimport\u001b[0m \u001b[0mstratipy\u001b[0m\u001b[0;34m.\u001b[0m\u001b[0mfetch\u001b[0m\u001b[0;34m\u001b[0m\u001b[0;34m\u001b[0m\u001b[0m\n",
            "\u001b[0;32m/usr/local/lib/python3.7/dist-packages/stratipy/sentinel2.py\u001b[0m in \u001b[0;36m<module>\u001b[0;34m()\u001b[0m\n\u001b[1;32m      5\u001b[0m \u001b[0;32mimport\u001b[0m \u001b[0mnumpy\u001b[0m \u001b[0;32mas\u001b[0m \u001b[0mnp\u001b[0m\u001b[0;34m\u001b[0m\u001b[0;34m\u001b[0m\u001b[0m\n\u001b[1;32m      6\u001b[0m \u001b[0;32mimport\u001b[0m \u001b[0mintake\u001b[0m\u001b[0;34m\u001b[0m\u001b[0;34m\u001b[0m\u001b[0m\n\u001b[0;32m----> 7\u001b[0;31m \u001b[0;32mimport\u001b[0m \u001b[0mintake_stac\u001b[0m\u001b[0;34m\u001b[0m\u001b[0;34m\u001b[0m\u001b[0m\n\u001b[0m\u001b[1;32m      8\u001b[0m \u001b[0;32mimport\u001b[0m \u001b[0mrasterio\u001b[0m \u001b[0;32mas\u001b[0m \u001b[0mrio\u001b[0m\u001b[0;34m\u001b[0m\u001b[0;34m\u001b[0m\u001b[0m\n\u001b[1;32m      9\u001b[0m \u001b[0;32mfrom\u001b[0m \u001b[0mtqdm\u001b[0m\u001b[0;34m.\u001b[0m\u001b[0mauto\u001b[0m \u001b[0;32mimport\u001b[0m \u001b[0mtqdm\u001b[0m\u001b[0;34m\u001b[0m\u001b[0;34m\u001b[0m\u001b[0m\n",
            "\u001b[0;32m/usr/local/lib/python3.7/dist-packages/intake_stac/__init__.py\u001b[0m in \u001b[0;36m<module>\u001b[0;34m()\u001b[0m\n\u001b[1;32m      2\u001b[0m \u001b[0;32mfrom\u001b[0m \u001b[0mpkg_resources\u001b[0m \u001b[0;32mimport\u001b[0m \u001b[0mDistributionNotFound\u001b[0m\u001b[0;34m,\u001b[0m \u001b[0mget_distribution\u001b[0m\u001b[0;34m\u001b[0m\u001b[0;34m\u001b[0m\u001b[0m\n\u001b[1;32m      3\u001b[0m \u001b[0;34m\u001b[0m\u001b[0m\n\u001b[0;32m----> 4\u001b[0;31m \u001b[0;32mfrom\u001b[0m \u001b[0;34m.\u001b[0m\u001b[0mcatalog\u001b[0m \u001b[0;32mimport\u001b[0m \u001b[0mStacCatalog\u001b[0m\u001b[0;34m,\u001b[0m \u001b[0mStacCollection\u001b[0m\u001b[0;34m,\u001b[0m \u001b[0mStacItem\u001b[0m\u001b[0;34m,\u001b[0m \u001b[0mStacItemCollection\u001b[0m  \u001b[0;31m# noqa: F401\u001b[0m\u001b[0;34m\u001b[0m\u001b[0;34m\u001b[0m\u001b[0m\n\u001b[0m\u001b[1;32m      5\u001b[0m \u001b[0;34m\u001b[0m\u001b[0m\n\u001b[1;32m      6\u001b[0m \u001b[0;32mtry\u001b[0m\u001b[0;34m:\u001b[0m\u001b[0;34m\u001b[0m\u001b[0;34m\u001b[0m\u001b[0m\n",
            "\u001b[0;32m/usr/local/lib/python3.7/dist-packages/intake_stac/catalog.py\u001b[0m in \u001b[0;36m<module>\u001b[0;34m()\u001b[0m\n\u001b[1;32m      7\u001b[0m \u001b[0;32mfrom\u001b[0m \u001b[0mpkg_resources\u001b[0m \u001b[0;32mimport\u001b[0m \u001b[0mget_distribution\u001b[0m\u001b[0;34m\u001b[0m\u001b[0;34m\u001b[0m\u001b[0m\n\u001b[1;32m      8\u001b[0m \u001b[0;34m\u001b[0m\u001b[0m\n\u001b[0;32m----> 9\u001b[0;31m \u001b[0m__version__\u001b[0m \u001b[0;34m=\u001b[0m \u001b[0mget_distribution\u001b[0m\u001b[0;34m(\u001b[0m\u001b[0;34m'intake_stac'\u001b[0m\u001b[0;34m)\u001b[0m\u001b[0;34m.\u001b[0m\u001b[0mversion\u001b[0m\u001b[0;34m\u001b[0m\u001b[0;34m\u001b[0m\u001b[0m\n\u001b[0m\u001b[1;32m     10\u001b[0m \u001b[0;34m\u001b[0m\u001b[0m\n\u001b[1;32m     11\u001b[0m \u001b[0;31m# STAC catalog asset 'type' determines intake driver:\u001b[0m\u001b[0;34m\u001b[0m\u001b[0;34m\u001b[0m\u001b[0;34m\u001b[0m\u001b[0m\n",
            "\u001b[0;32m/usr/local/lib/python3.7/dist-packages/pkg_resources/__init__.py\u001b[0m in \u001b[0;36mget_distribution\u001b[0;34m(dist)\u001b[0m\n\u001b[1;32m    464\u001b[0m         \u001b[0mdist\u001b[0m \u001b[0;34m=\u001b[0m \u001b[0mRequirement\u001b[0m\u001b[0;34m.\u001b[0m\u001b[0mparse\u001b[0m\u001b[0;34m(\u001b[0m\u001b[0mdist\u001b[0m\u001b[0;34m)\u001b[0m\u001b[0;34m\u001b[0m\u001b[0;34m\u001b[0m\u001b[0m\n\u001b[1;32m    465\u001b[0m     \u001b[0;32mif\u001b[0m \u001b[0misinstance\u001b[0m\u001b[0;34m(\u001b[0m\u001b[0mdist\u001b[0m\u001b[0;34m,\u001b[0m \u001b[0mRequirement\u001b[0m\u001b[0;34m)\u001b[0m\u001b[0;34m:\u001b[0m\u001b[0;34m\u001b[0m\u001b[0;34m\u001b[0m\u001b[0m\n\u001b[0;32m--> 466\u001b[0;31m         \u001b[0mdist\u001b[0m \u001b[0;34m=\u001b[0m \u001b[0mget_provider\u001b[0m\u001b[0;34m(\u001b[0m\u001b[0mdist\u001b[0m\u001b[0;34m)\u001b[0m\u001b[0;34m\u001b[0m\u001b[0;34m\u001b[0m\u001b[0m\n\u001b[0m\u001b[1;32m    467\u001b[0m     \u001b[0;32mif\u001b[0m \u001b[0;32mnot\u001b[0m \u001b[0misinstance\u001b[0m\u001b[0;34m(\u001b[0m\u001b[0mdist\u001b[0m\u001b[0;34m,\u001b[0m \u001b[0mDistribution\u001b[0m\u001b[0;34m)\u001b[0m\u001b[0;34m:\u001b[0m\u001b[0;34m\u001b[0m\u001b[0;34m\u001b[0m\u001b[0m\n\u001b[1;32m    468\u001b[0m         \u001b[0;32mraise\u001b[0m \u001b[0mTypeError\u001b[0m\u001b[0;34m(\u001b[0m\u001b[0;34m\"Expected string, Requirement, or Distribution\"\u001b[0m\u001b[0;34m,\u001b[0m \u001b[0mdist\u001b[0m\u001b[0;34m)\u001b[0m\u001b[0;34m\u001b[0m\u001b[0;34m\u001b[0m\u001b[0m\n",
            "\u001b[0;32m/usr/local/lib/python3.7/dist-packages/pkg_resources/__init__.py\u001b[0m in \u001b[0;36mget_provider\u001b[0;34m(moduleOrReq)\u001b[0m\n\u001b[1;32m    340\u001b[0m     \u001b[0;34m\"\"\"Return an IResourceProvider for the named module or requirement\"\"\"\u001b[0m\u001b[0;34m\u001b[0m\u001b[0;34m\u001b[0m\u001b[0m\n\u001b[1;32m    341\u001b[0m     \u001b[0;32mif\u001b[0m \u001b[0misinstance\u001b[0m\u001b[0;34m(\u001b[0m\u001b[0mmoduleOrReq\u001b[0m\u001b[0;34m,\u001b[0m \u001b[0mRequirement\u001b[0m\u001b[0;34m)\u001b[0m\u001b[0;34m:\u001b[0m\u001b[0;34m\u001b[0m\u001b[0;34m\u001b[0m\u001b[0m\n\u001b[0;32m--> 342\u001b[0;31m         \u001b[0;32mreturn\u001b[0m \u001b[0mworking_set\u001b[0m\u001b[0;34m.\u001b[0m\u001b[0mfind\u001b[0m\u001b[0;34m(\u001b[0m\u001b[0mmoduleOrReq\u001b[0m\u001b[0;34m)\u001b[0m \u001b[0;32mor\u001b[0m \u001b[0mrequire\u001b[0m\u001b[0;34m(\u001b[0m\u001b[0mstr\u001b[0m\u001b[0;34m(\u001b[0m\u001b[0mmoduleOrReq\u001b[0m\u001b[0;34m)\u001b[0m\u001b[0;34m)\u001b[0m\u001b[0;34m[\u001b[0m\u001b[0;36m0\u001b[0m\u001b[0;34m]\u001b[0m\u001b[0;34m\u001b[0m\u001b[0;34m\u001b[0m\u001b[0m\n\u001b[0m\u001b[1;32m    343\u001b[0m     \u001b[0;32mtry\u001b[0m\u001b[0;34m:\u001b[0m\u001b[0;34m\u001b[0m\u001b[0;34m\u001b[0m\u001b[0m\n\u001b[1;32m    344\u001b[0m         \u001b[0mmodule\u001b[0m \u001b[0;34m=\u001b[0m \u001b[0msys\u001b[0m\u001b[0;34m.\u001b[0m\u001b[0mmodules\u001b[0m\u001b[0;34m[\u001b[0m\u001b[0mmoduleOrReq\u001b[0m\u001b[0;34m]\u001b[0m\u001b[0;34m\u001b[0m\u001b[0;34m\u001b[0m\u001b[0m\n",
            "\u001b[0;32m/usr/local/lib/python3.7/dist-packages/pkg_resources/__init__.py\u001b[0m in \u001b[0;36mrequire\u001b[0;34m(self, *requirements)\u001b[0m\n\u001b[1;32m    884\u001b[0m         \u001b[0mincluded\u001b[0m\u001b[0;34m,\u001b[0m \u001b[0meven\u001b[0m \u001b[0;32mif\u001b[0m \u001b[0mthey\u001b[0m \u001b[0mwere\u001b[0m \u001b[0malready\u001b[0m \u001b[0mactivated\u001b[0m \u001b[0;32min\u001b[0m \u001b[0mthis\u001b[0m \u001b[0mworking\u001b[0m \u001b[0mset\u001b[0m\u001b[0;34m.\u001b[0m\u001b[0;34m\u001b[0m\u001b[0;34m\u001b[0m\u001b[0m\n\u001b[1;32m    885\u001b[0m         \"\"\"\n\u001b[0;32m--> 886\u001b[0;31m         \u001b[0mneeded\u001b[0m \u001b[0;34m=\u001b[0m \u001b[0mself\u001b[0m\u001b[0;34m.\u001b[0m\u001b[0mresolve\u001b[0m\u001b[0;34m(\u001b[0m\u001b[0mparse_requirements\u001b[0m\u001b[0;34m(\u001b[0m\u001b[0mrequirements\u001b[0m\u001b[0;34m)\u001b[0m\u001b[0;34m)\u001b[0m\u001b[0;34m\u001b[0m\u001b[0;34m\u001b[0m\u001b[0m\n\u001b[0m\u001b[1;32m    887\u001b[0m \u001b[0;34m\u001b[0m\u001b[0m\n\u001b[1;32m    888\u001b[0m         \u001b[0;32mfor\u001b[0m \u001b[0mdist\u001b[0m \u001b[0;32min\u001b[0m \u001b[0mneeded\u001b[0m\u001b[0;34m:\u001b[0m\u001b[0;34m\u001b[0m\u001b[0;34m\u001b[0m\u001b[0m\n",
            "\u001b[0;32m/usr/local/lib/python3.7/dist-packages/pkg_resources/__init__.py\u001b[0m in \u001b[0;36mresolve\u001b[0;34m(self, requirements, env, installer, replace_conflicting, extras)\u001b[0m\n\u001b[1;32m    775\u001b[0m                 \u001b[0;31m# Oops, the \"best\" so far conflicts with a dependency\u001b[0m\u001b[0;34m\u001b[0m\u001b[0;34m\u001b[0m\u001b[0;34m\u001b[0m\u001b[0m\n\u001b[1;32m    776\u001b[0m                 \u001b[0mdependent_req\u001b[0m \u001b[0;34m=\u001b[0m \u001b[0mrequired_by\u001b[0m\u001b[0;34m[\u001b[0m\u001b[0mreq\u001b[0m\u001b[0;34m]\u001b[0m\u001b[0;34m\u001b[0m\u001b[0;34m\u001b[0m\u001b[0m\n\u001b[0;32m--> 777\u001b[0;31m                 \u001b[0;32mraise\u001b[0m \u001b[0mVersionConflict\u001b[0m\u001b[0;34m(\u001b[0m\u001b[0mdist\u001b[0m\u001b[0;34m,\u001b[0m \u001b[0mreq\u001b[0m\u001b[0;34m)\u001b[0m\u001b[0;34m.\u001b[0m\u001b[0mwith_context\u001b[0m\u001b[0;34m(\u001b[0m\u001b[0mdependent_req\u001b[0m\u001b[0;34m)\u001b[0m\u001b[0;34m\u001b[0m\u001b[0;34m\u001b[0m\u001b[0m\n\u001b[0m\u001b[1;32m    778\u001b[0m \u001b[0;34m\u001b[0m\u001b[0m\n\u001b[1;32m    779\u001b[0m             \u001b[0;31m# push the new requirements onto the stack\u001b[0m\u001b[0;34m\u001b[0m\u001b[0;34m\u001b[0m\u001b[0;34m\u001b[0m\u001b[0m\n",
            "\u001b[0;31mContextualVersionConflict\u001b[0m: (python-dateutil 2.8.2 (/usr/local/lib/python3.7/dist-packages), Requirement.parse('python-dateutil~=2.7.5'), {'sat-stac'})"
          ]
        }
      ]
    },
    {
      "cell_type": "code",
      "metadata": {
        "id": "G_eUPodjcSVp"
      },
      "source": [
        "def get_utm_epsg(latitude, longitude):\n",
        "    \"\"\"\n",
        "    gets wgs84 utm zone for coordinates input in epsg:4326\n",
        "    \"\"\"\n",
        "    offset = int(round((183 + latitude) / 6.0))\n",
        "    return 32600 + offset if longitude > 0 else 32700 + offset\n",
        "\n",
        "def check_project_bounds(total_bounds):\n",
        "    \"\"\"\n",
        "    total bounds = [llx, lly, urx, ury]\n",
        "    \"\"\"\n",
        "    ll_epsg = get_utm_epsg(total_bounds[0], total_bounds[1])\n",
        "    ur_epsg = get_utm_epsg(total_bounds[2], total_bounds[3])\n",
        "\n",
        "    if ll_epsg != ur_epsg:\n",
        "        print('The geometry crosses utm zones')\n",
        "        return None\n",
        "    \n",
        "    return ll_epsg\n",
        "\n",
        "# make sure the project falls does not overlap multiple utm zones\n",
        "proj_utm_epsg = check_project_bounds(field_boundary.total_bounds)\n",
        "\n",
        "# calculate grassland area\n",
        "field_boundary_utm = field_boundary.to_crs(epsg=proj_utm_epsg)\n",
        "grasslands_area_m2 = float(field_boundary_utm.area.sum())\n",
        "grasslands_area_ha = grasslands_area_m2 / 10000\n",
        "print(f'The Jamala Canyon ranch grasslands area totals {grasslands_area_ha:.2f} hectares.')"
      ],
      "execution_count": null,
      "outputs": []
    },
    {
      "cell_type": "code",
      "metadata": {
        "id": "4PaxKt2f28lr"
      },
      "source": [
        "import shapely.geometry\n",
        "\n",
        "def get_bbox(total_bounds, padding=0):\n",
        "    # use boundary extent to create a padded bbox for processing\n",
        "    return shapely.geometry.box(*total_bounds).buffer(padding, cap_style=2, join_style=2).bounds\n",
        "\n",
        "bbox = get_bbox(field_boundary.total_bounds, 1e-3)"
      ],
      "execution_count": null,
      "outputs": []
    },
    {
      "cell_type": "markdown",
      "metadata": {
        "id": "CLQk0F5M0rvY"
      },
      "source": [
        "## Variables Used to Stratify\n",
        "\n",
        "Variables highly correlated to soil organic carbon can be used as proxies to divide the project area into\n",
        "strata which encompass the full range of SOC levels (low, medium and high). Variables found to be good proxies to spatial variability of SOC at the field scale include:\n",
        "* **Topographic**: elevation, slope, aspect, erosion, & terrain ruggedness Index (TRI)\n",
        "* **Land Use / Land cover (LULC)**: Vegetation cover, above ground biomass, land management history\n",
        "* **Spectral Indices from Satellite Imagery**: NDVI , BSI, NDWI, Tasseled Cap\n",
        "* **Hydrologic**: topographic wetness index (TWI), catchment area and stream power index (SPI)\n",
        "* **Pedologic**: soil type, organic matter, clay content, pH <br />\n",
        "\n",
        "The variables used for the Pilango project are outlined below. "
      ]
    },
    {
      "cell_type": "markdown",
      "metadata": {
        "id": "twowm4ft0tkb"
      },
      "source": [
        "### NDVI\n",
        "\n",
        "NDVI was derived using cloud free Sentinel-2 satellite images taken over the project area between April, 1 2020 and April 1, 2021. The NDVI was calculated for each of the images individually; the image with the highest range NDVI value was selected and used for analysis. \n",
        "\n",
        "---\n",
        "\n",
        "*Images used in this analysis were downloaded the [AWS Open Data Portal](https://registry.opendata.aws/sentinel-2-l2a-cogs/). As the project area is covered by multiple tile footprints which different spatial projections, only images with the Sentinel-2 L1C Tile ID: T14SKJ were used for analysis.*"
      ]
    },
    {
      "cell_type": "code",
      "metadata": {
        "id": "2C3Wm5Pe0s-z"
      },
      "source": [
        "from stratipy import sentinel2, utils\n",
        "\n",
        "# search criteria\n",
        "start_date = '2020-05-01'\n",
        "end_date = '2021-05-01'\n",
        "cloud_cover = 5\n",
        "catalog = sentinel2.get_s2_l2a_catalog(bbox, start_date, end_date, cloud_cover)\n",
        "\n",
        "# print images used for the analysis\n",
        "print(\"Sentinel-2 Tile IDs for the {} images used for analysis\".format(len(catalog)))\n",
        "print(\"-\"*60)\n",
        "for k, v in catalog.items():\n",
        "    print(v.metadata['sentinel:product_id'])"
      ],
      "execution_count": null,
      "outputs": []
    },
    {
      "cell_type": "code",
      "metadata": {
        "id": "QSOrpy_k3fm2"
      },
      "source": [
        "import asyncio\n",
        "import nest_asyncio\n",
        "import numpy as np\n",
        "nest_asyncio.apply()\n",
        "\n",
        "summary_method = 'max'\n",
        "async def ndvi_await():\n",
        "    return await sentinel2.get_ndvi_summary_by_bbox_async(bbox, catalog, summary_method)\n",
        "\n",
        "greenest, greenest_tf, greenest_crs = asyncio.run(ndvi_await())"
      ],
      "execution_count": null,
      "outputs": []
    },
    {
      "cell_type": "code",
      "metadata": {
        "id": "PMnWnEpK30cw"
      },
      "source": [
        "print(f'The range of NDVI values is {np.nanmin(greenest):.3f} - {np.nanmax(greenest):.3f}')"
      ],
      "execution_count": null,
      "outputs": []
    },
    {
      "cell_type": "markdown",
      "metadata": {
        "id": "44KBGloWQJrk"
      },
      "source": [
        "### Elevation\n",
        "The elevation variables selected for the analysis are: elevation, slope, aspect, and topographic wetness index. Elevation data was sourced using the [USGS 3DEP National Indexing Scheme](https://www.usgs.gov/core-science-systems/ngp/3dep/3dep-national-indexing-scheme); all other variables were calculated using the original elevation data. "
      ]
    },
    {
      "cell_type": "code",
      "metadata": {
        "id": "3sRETtpAQVRu"
      },
      "source": [
        "%%capture\n",
        "from stratipy import elevation\n",
        "from pydem.dem_processing import DEMProcessor\n",
        "\n",
        "async def elev_await():\n",
        "  return await elevation.fetch_elevation(\n",
        "  bbox, \n",
        "  dst_shape=greenest.shape,\n",
        "  dst_transform=greenest_tf,\n",
        "  dst_crs=greenest_crs,\n",
        ")\n",
        "\n",
        "# calculate elevation, slope, aspect\n",
        "elev, elev_tf, elev_crs = asyncio.run(elev_await())\n",
        "slope = elevation.calculate_slope(elev)\n",
        "aspect = elevation.calculate_aspect(elev)\n",
        "\n",
        "# calculate twi\n",
        "elev_of = 'elevation.tif'\n",
        "utils.write_geotiff(elev_of, elev, greenest_tf, greenest_crs)\n",
        "dem_proc = DEMProcessor(elev_of)\n",
        "twi = dem_proc.calc_twi()"
      ],
      "execution_count": null,
      "outputs": []
    },
    {
      "cell_type": "code",
      "metadata": {
        "id": "IElj7bGglxye"
      },
      "source": [
        "print(f'The topographic relief across the area is values is {np.nanmax(elev) - np.nanmin(elev):.3f} feet.')"
      ],
      "execution_count": null,
      "outputs": []
    },
    {
      "cell_type": "markdown",
      "metadata": {
        "id": "tAbzj99Sg__-"
      },
      "source": [
        "### Soils\n",
        "Soil data were downloaded from the [NRCS SSURGO Database](https://datagateway.nrcs.usda.gov/). Organic matter and clay values were derived by averaging their percent content across all horizons, taking into account the horizon depth.  \n",
        "    "
      ]
    },
    {
      "cell_type": "code",
      "metadata": {
        "id": "9Bey5RGohCBB"
      },
      "source": [
        "from stratipy import soils\n",
        "\n",
        "async def soils_await():\n",
        "  return await soils.get_clipped_summary(bbox)\n",
        "\n",
        "soil_results = asyncio.run(soils_await()) \n",
        "\n",
        "om, clay, res_tf = soils.get_om_clay_rasters(\n",
        "    soil_results, \n",
        "    bbox, \n",
        "    greenest.shape, \n",
        "    transform=greenest_tf,\n",
        "    dst_crs=greenest_crs\n",
        ")"
      ],
      "execution_count": null,
      "outputs": []
    },
    {
      "cell_type": "markdown",
      "metadata": {
        "id": "E7o-UTz2phrw"
      },
      "source": [
        "### Masking Variables w/Project Boundary\n",
        "\n"
      ]
    },
    {
      "cell_type": "code",
      "metadata": {
        "id": "V2pOr91Tpbo2"
      },
      "source": [
        "import rasterio as rio\n",
        "\n",
        "# reproject project boundary to utm\n",
        "boundary_utm = field_boundary.to_crs(greenest_crs)\n",
        "boundary_shp = boundary_utm.geometry\n",
        "boundary_shp_buffered = boundary_shp.buffer(1e-3, cap_style=2, join_style=2)\n",
        "\n",
        "# create raster mask\n",
        "raster_mask = rio.features.geometry_mask(\n",
        "    boundary_shp,\n",
        "    out_shape=greenest.shape,\n",
        "    transform=greenest_tf,\n",
        "    all_touched=True\n",
        ")\n",
        "\n",
        "# clip rasters to project boundary\n",
        "masked_greenest, masked_slope, masked_aspect, masked_twi, masked_clay, masked_om = [\n",
        "    utils.mask_raster_with_geometry(\n",
        "        raster,\n",
        "        greenest_tf,\n",
        "        boundary_shp,\n",
        "        greenest_crs\n",
        "    )[0] \n",
        "    for raster in [greenest, slope, aspect, twi, clay, om]\n",
        "]"
      ],
      "execution_count": null,
      "outputs": []
    },
    {
      "cell_type": "markdown",
      "metadata": {
        "id": "WkVJ_vXXQQkg"
      },
      "source": [
        "### Visualization"
      ]
    },
    {
      "cell_type": "code",
      "metadata": {
        "id": "5c7AaUEzaeXt"
      },
      "source": [
        "from matplotlib import cm\n",
        "from sklearn.preprocessing import MinMaxScaler\n",
        "\n",
        "\n",
        "cmaps = {\n",
        "    'NDVI': cm.Greens, \n",
        "    'Aspect': cm.Spectral, \n",
        "    'Slope': cm.Spectral, \n",
        "    'TWI': cm.Spectral,\n",
        "    'Organic Matter': cm.Pastel2, \n",
        "    'Clay': cm.Dark2\n",
        "}"
      ],
      "execution_count": null,
      "outputs": []
    },
    {
      "cell_type": "code",
      "metadata": {
        "id": "pT0ggp1lpfCt"
      },
      "source": [
        "basemap = get_basemap()\n",
        "boundary_layer = folium.GeoJson(data=boundary_utm, \n",
        "                                style_function=lambda x: {'fillColor': '#00000000'},\n",
        "                                name='Project Boundary').add_to(basemap)\n",
        "\n",
        "\n",
        "image_bounds = [[bbox[1], bbox[0]], [bbox[3], bbox[2]]]\n",
        "raster_layers = [masked_greenest, masked_slope, masked_aspect, masked_twi, masked_clay, masked_om]\n",
        "layer_names = ['NDVI', 'Slope', 'Aspect', 'TWI', 'Clay' 'Organic Matter']\n",
        "scaler = MinMaxScaler()\n",
        "for layer, name in zip(raster_layers, layer_names):\n",
        "    try:\n",
        "        layer = scaler.fit_transform(layer)\n",
        "        basemap.add_child(folium.raster_layers.ImageOverlay(\n",
        "            layer,\n",
        "            image_bounds,\n",
        "            colormap=cmaps[name],\n",
        "            name=name,\n",
        "        ))\n",
        "    except Exception:\n",
        "        continue\n",
        "\n",
        "basemap.add_child(folium.LayerControl())\n",
        "basemap"
      ],
      "execution_count": null,
      "outputs": []
    },
    {
      "cell_type": "markdown",
      "metadata": {
        "id": "zvSR0ekQ834Q"
      },
      "source": [
        "### Feature Selection\n",
        "Of the six variables tested in the stratification, only three were selected for analysis. The following variables were excluded: \n",
        "\n",
        "*   **Organic Matter**: A comparison between the clay and organic matter layers reveals that clay is much more variable across the project area than organic matter (organic matter only has 4 unique values while clay has 17. Visually comparing the two layers, you can see that the spatial distribution of clay within the project area captures the distibution of OM, thus the organic matter layer was removed. \n",
        " \n",
        "*   List item\n",
        "\n",
        "\n",
        "\n",
        "**The variables used for this stratification were**: *NDVI, slope, and organic matter, TWI*."
      ]
    },
    {
      "cell_type": "code",
      "metadata": {
        "id": "EEKoRHPFQCP2"
      },
      "source": [
        "import numpy as np\n",
        "import clhs\n",
        "import pandas as pd\n",
        "from sklearn import preprocessing\n",
        "from scipy.spatial import distance_matrix\n",
        "import math\n",
        "\n",
        "del clhs_inputs\n",
        "\n",
        "clhs_inputs = pd.DataFrame({\n",
        "    'ndvi': np.nan_to_num(masked_greenest.flatten()),\n",
        "    'slope': np.nan_to_num(masked_slope.flatten()),\n",
        "    'aspect': np.nan_to_num(masked_aspect.flatten()),\n",
        "    'twi': np.nan_to_num(masked_twi.flatten()),\n",
        "    'clay': np.nan_to_num(masked_clay.flatten()),\n",
        "})\n",
        "\n",
        "clhs_inputs = clhs_inputs[\n",
        "    (clhs_inputs[\"ndvi\"] != 0) & \n",
        "    (clhs_inputs[\"slope\"] != 0) &\n",
        "    (clhs_inputs[\"aspect\"] != 0) &\n",
        "    (clhs_inputs[\"twi\"] != 0) &\n",
        "    (clhs_inputs[\"clay\"] != 0) \n",
        "]\n",
        "\n",
        "\n",
        "clhs_inputs_st = preprocessing.scale(clhs_inputs)"
      ],
      "execution_count": null,
      "outputs": []
    },
    {
      "cell_type": "code",
      "metadata": {
        "id": "rLNZGflEpGKK"
      },
      "source": [
        "import matplotlib.pyplot as plt\n",
        "from sklearn.datasets import make_blobs\n",
        "\n",
        "cluster_range = range(1,20)\n",
        "cluster_range_abbr = range(2,20)\n",
        "cluster_wss = []\n",
        "\n",
        "from sklearn.cluster import KMeans\n",
        "for num_cluster in cluster_range:\n",
        "    clusters = KMeans(num_cluster)\n",
        "    clusters.fit(clhs_inputs_st)\n",
        "    cluster_wss.append(clusters.inertia_)\n",
        "\n",
        "cluster_range_ind = range(1,len(cluster_range))\n",
        "cluster_range_ind\n",
        "\n",
        "cluster_slope = []\n",
        "for num_cluster in cluster_range_ind:\n",
        "    cluster_slope.append(cluster_wss[num_cluster]-cluster_wss[num_cluster-1])"
      ],
      "execution_count": null,
      "outputs": []
    },
    {
      "cell_type": "code",
      "metadata": {
        "id": "Y1DB8wMnpJ2g"
      },
      "source": [
        "fig = plt.figure()\n",
        "ax = fig.add_subplot(111)\n",
        "\n",
        "plt.xlabel('# Clusters')\n",
        "plt.ylabel('WSS')\n",
        "plt.plot(cluster_range_abbr, cluster_slope, marker = 'o')\n",
        "for xy in zip(cluster_range_abbr, cluster_slope):                                      \n",
        "    ax.annotate('%s' % xy[0], xy=xy, textcoords='data', \n",
        "                 horizontalalignment='right', verticalalignment='bottom') #\n",
        "plt.grid()\n",
        "plt.show()\n",
        "\n",
        "plt.savefig('ndvimax_slope_aspect_twi_clay.png')"
      ],
      "execution_count": null,
      "outputs": []
    },
    {
      "cell_type": "code",
      "metadata": {
        "id": "40lk6f7XrDrT"
      },
      "source": [
        "optimal_cluster_num = 5\n",
        "clhs_clust = KMeans(n_clusters=optimal_cluster_num, random_state=416).fit(clhs_inputs_st)\n",
        "clhs_inputs['cluster'] = clhs_clust.labels_.tolist()"
      ],
      "execution_count": null,
      "outputs": []
    },
    {
      "cell_type": "code",
      "metadata": {
        "id": "5ffBAJIsrM9P"
      },
      "source": [
        "strata = np.empty(greenest.shape)\n",
        "strata[:] = np.nan\n",
        "y = np.unravel_index(clhs_inputs.index, greenest.shape)[0]\n",
        "x = np.unravel_index(clhs_inputs.index, greenest.shape)[1]\n",
        "replacements = clhs_inputs['cluster'].values\n",
        "\n",
        "\n",
        "for i in range(len(replacements)):\n",
        "    strata[y[i],x[i]] = replacements[i]\n",
        "\n",
        "plt.title('Strata')\n",
        "plt.imshow(strata)"
      ],
      "execution_count": null,
      "outputs": []
    },
    {
      "cell_type": "markdown",
      "metadata": {
        "id": "IeFe7yx00eKL"
      },
      "source": [
        "# Write Results to File\n"
      ]
    },
    {
      "cell_type": "code",
      "metadata": {
        "id": "fF9oivxB8LJY"
      },
      "source": [
        "utils.write_geotiff('ndvimax_twi_aspect_clay_7_classes.tif', strata, greenest_tf, greenest_crs)"
      ],
      "execution_count": null,
      "outputs": []
    },
    {
      "cell_type": "code",
      "metadata": {
        "id": "e0O0btCS47Ft"
      },
      "source": [
        "output_dir = os.path.join(working_dir, 'output')\n",
        "\n",
        "ndvi_of = os.path.join(output_dir, 'max_ndvi_20200501_20210501.tif')\n",
        "slope_of = os.path.join(output_dir, 'slope.tif')\n",
        "aspect_of = os.path.join(output_dir, 'aspect.tif')\n",
        "clay_of = os.path.join(output_dir, 'clay.tif')\n",
        "twi_of = os.path.join(output_dir, 'twi.tif')\n",
        "om_of = os.path.join(output_dir, 'om.tif')\n",
        "\n",
        "\n",
        "utils.write_geotiff(ndvi_of, greenest, greenest_tf, greenest_crs)\n",
        "utils.write_geotiff(slope_of, slope, elev_tf, elev_crs)\n",
        "utils.write_geotiff(om_of, om, res_tf, greenest_crs)\n",
        "utils.write_geotiff(clay_of, clay, greenest_tf, greenest_crs)\n",
        "utils.write_geotiff(aspect_of, aspect, greenest_tf, greenest_crs)"
      ],
      "execution_count": null,
      "outputs": []
    },
    {
      "cell_type": "code",
      "metadata": {
        "id": "t2aDvAYZ6A56"
      },
      "source": [
        ""
      ],
      "execution_count": null,
      "outputs": []
    },
    {
      "cell_type": "markdown",
      "metadata": {
        "id": "wNWh0gdmPh-o"
      },
      "source": [
        "Strata were smoothed over using the SAGA Majority filter - default settings\n",
        "\n",
        "Random points were assigned based on % of total area\n",
        "\n"
      ]
    }
  ]
}